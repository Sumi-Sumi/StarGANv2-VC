{
 "cells": [
  {
   "cell_type": "code",
   "execution_count": 61,
   "id": "347ace04",
   "metadata": {},
   "outputs": [],
   "source": [
    "# VCTK Corpus Path\n",
    "__CORPUSPATH__ = '/home/podman/datasets/jvs100'\n",
    "\n",
    "# output path\n",
    "__OUTPATH__ = '/home/podman/StarGANv2-VC/Data/JVS100'"
   ]
  },
  {
   "cell_type": "code",
   "execution_count": 43,
   "id": "4ce9eb2e",
   "metadata": {},
   "outputs": [],
   "source": [
    "import os\n",
    "from scipy.io import wavfile\n",
    "from pydub import AudioSegment\n",
    "\n",
    "from pydub import AudioSegment\n",
    "from pydub.silence import split_on_silence\n",
    "import os\n",
    "from tqdm import tqdm\n",
    "\n",
    "def split(sound):\n",
    "    dBFS = sound.dBFS\n",
    "    chunks = split_on_silence(sound,\n",
    "        min_silence_len = 100,\n",
    "        silence_thresh = dBFS-16,\n",
    "        keep_silence = 100\n",
    "    )\n",
    "    return chunks\n",
    "\n",
    "def combine(_src):\n",
    "    audio = AudioSegment.empty()\n",
    "    for i,filename in enumerate(os.listdir(_src)):\n",
    "        if filename.endswith('.wav'):\n",
    "            filename = os.path.join(_src, filename)\n",
    "            # print(os.path.exists(filename), filename)\n",
    "            audio += AudioSegment.from_wav(filename)\n",
    "    return audio\n",
    "\n",
    "def save_chunks(chunks, directory):\n",
    "    if not os.path.exists(directory):\n",
    "        os.makedirs(directory)\n",
    "    counter = 0\n",
    "\n",
    "    target_length = 5 * 1000\n",
    "    output_chunks = [chunks[0]]\n",
    "    for chunk in chunks[1:]:\n",
    "        if len(output_chunks[-1]) < target_length:\n",
    "            output_chunks[-1] += chunk\n",
    "        else:\n",
    "            # if the last output chunk is longer than the target length,\n",
    "            # we can start a new one\n",
    "            output_chunks.append(chunk)\n",
    "\n",
    "    for chunk in output_chunks:\n",
    "        chunk = chunk.set_frame_rate(24000)\n",
    "        chunk = chunk.set_channels(1)\n",
    "        counter = counter + 1\n",
    "        chunk.export(os.path.join(directory, str(counter) + '.wav'), format=\"wav\")"
   ]
  },
  {
   "cell_type": "code",
   "execution_count": 65,
   "id": "769a7f62",
   "metadata": {},
   "outputs": [
    {
     "name": "stdout",
     "output_type": "stream",
     "text": [
      "20\n"
     ]
    }
   ],
   "source": [
    "# Source: http://speech.ee.ntu.edu.tw/~jjery2243542/resource/model/is18/en_speaker_used.txt\n",
    "# Source: https://github.com/jjery2243542/voice_conversion\n",
    "\n",
    "# speakers = list()\n",
    "# for i in range(1, 101):\n",
    "#     speakers.append('jvs{:0>3}'.format(i))\n",
    "    \n",
    "speakers = ['jvs016', 'jvs035',  'jvs092',\n",
    "                     'jvs040', 'jvs067', 'jvs066', 'jvs095',\n",
    "                     'jvs036', 'jvs090', 'jvs061',\n",
    "                     'jvs006', 'jvs021', 'jvs042',\n",
    "                     'jvs003', 'jvs020', 'jvs045', 'jvs073',\n",
    "                     'jvs047',  'jvs032', 'jvs098']\n",
    "print(len(speakers))"
   ]
  },
  {
   "cell_type": "code",
   "execution_count": 5,
   "id": "9302fb6a",
   "metadata": {},
   "outputs": [
    {
     "name": "stderr",
     "output_type": "stream",
     "text": [
      "100%|██████████████████████████████████████████████████████████████████████████████████████| 100/100 [10:13<00:00,  6.14s/it]\n"
     ]
    }
   ],
   "source": [
    "# downsample to 24 kHz\n",
    "\n",
    "for p in tqdm(speakers):\n",
    "    directory = __OUTPATH__ + str(p)\n",
    "    if not os.path.exists(directory):\n",
    "        audio = combine(__CORPUSPATH__  + str(p))\n",
    "        chunks = split(audio)\n",
    "        save_chunks(chunks, directory)"
   ]
  },
  {
   "cell_type": "code",
   "execution_count": 66,
   "id": "4b0ca022",
   "metadata": {},
   "outputs": [],
   "source": [
    "# get all speakers\n",
    "\n",
    "data_list = []\n",
    "for path, subdirs, files in os.walk(__OUTPATH__):\n",
    "    for name in files:\n",
    "        if name.endswith(\".wav\"):\n",
    "            speaker = path.split('/')[-1]\n",
    "            if speaker in speakers:\n",
    "                data_list.append({\"Path\": os.path.join(path, name), \"Speaker\": int(speakers.index(speaker)) + 1})\n",
    "import pandas as pd\n",
    "\n",
    "data_list = pd.DataFrame(data_list)\n",
    "data_list = data_list.sample(frac=1)\n",
    "\n",
    "import random\n",
    "\n",
    "split_idx = round(len(data_list) * 0.1)\n",
    "\n",
    "test_data = data_list[:split_idx]\n",
    "train_data = data_list[split_idx:]"
   ]
  },
  {
   "cell_type": "code",
   "execution_count": 67,
   "id": "88df2a45",
   "metadata": {},
   "outputs": [
    {
     "name": "stdout",
     "output_type": "stream",
     "text": [
      "True\n"
     ]
    }
   ],
   "source": [
    "# write to file \n",
    "\n",
    "file_str = \"\"\n",
    "for index, k in train_data.iterrows():\n",
    "    file_str += k['Path'] + \"|\" +str(k['Speaker'] - 1)+ '\\n'\n",
    "print(os.path.exists(__OUTPATH__))\n",
    "with open(__OUTPATH__ + \"/train_list.txt\", \"w\") as f:\n",
    "    f.write(file_str)\n",
    "\n",
    "file_str = \"\"\n",
    "for index, k in test_data.iterrows():\n",
    "    file_str += k['Path'] + \"|\" + str(k['Speaker'] - 1) + '\\n'\n",
    "text_file = open(__OUTPATH__ + \"/val_list.txt\", \"w\")\n",
    "text_file.write(file_str)\n",
    "text_file.close()"
   ]
  },
  {
   "cell_type": "code",
   "execution_count": null,
   "id": "e03ff61a-063f-4888-bd41-5dc316e8cb7d",
   "metadata": {},
   "outputs": [
    {
     "data": {
      "text/plain": [
       "'/home/podman/StarGANv2-VC/Data'"
      ]
     },
     "execution_count": 56,
     "metadata": {},
     "output_type": "execute_result"
    }
   ],
   "source": []
  },
  {
   "cell_type": "code",
   "execution_count": 44,
   "id": "9efe0277-5d98-4804-9495-588a742d6b9c",
   "metadata": {},
   "outputs": [
    {
     "ename": "AttributeError",
     "evalue": "module 'posixpath' has no attribute 'pwd'",
     "output_type": "error",
     "traceback": [
      "\u001b[0;31m---------------------------------------------------------------------------\u001b[0m",
      "\u001b[0;31mAttributeError\u001b[0m                            Traceback (most recent call last)",
      "\u001b[0;32m/tmp/ipykernel_36/1284469677.py\u001b[0m in \u001b[0;36m<module>\u001b[0;34m\u001b[0m\n\u001b[0;32m----> 1\u001b[0;31m \u001b[0mos\u001b[0m\u001b[0;34m.\u001b[0m\u001b[0mpath\u001b[0m\u001b[0;34m.\u001b[0m\u001b[0mpwd\u001b[0m\u001b[0;34m(\u001b[0m\u001b[0;34m)\u001b[0m\u001b[0;34m\u001b[0m\u001b[0;34m\u001b[0m\u001b[0m\n\u001b[0m",
      "\u001b[0;31mAttributeError\u001b[0m: module 'posixpath' has no attribute 'pwd'"
     ]
    }
   ],
   "source": []
  },
  {
   "cell_type": "code",
   "execution_count": null,
   "id": "3a73fc29-2f7e-451c-bc47-4be88e1c2aee",
   "metadata": {},
   "outputs": [],
   "source": []
  }
 ],
 "metadata": {
  "kernelspec": {
   "display_name": "Python 3 (ipykernel)",
   "language": "python",
   "name": "python3"
  },
  "language_info": {
   "codemirror_mode": {
    "name": "ipython",
    "version": 3
   },
   "file_extension": ".py",
   "mimetype": "text/x-python",
   "name": "python",
   "nbconvert_exporter": "python",
   "pygments_lexer": "ipython3",
   "version": "3.8.8"
  }
 },
 "nbformat": 4,
 "nbformat_minor": 5
}
